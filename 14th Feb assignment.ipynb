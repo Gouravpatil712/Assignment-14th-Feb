{
 "cells": [
  {
   "cell_type": "markdown",
   "id": "fb75c0cc-d2b0-49e6-ad5e-d3c6dac4e5a1",
   "metadata": {},
   "source": [
    "## Question 01 - what is multithreading in python? why is it used? Name the module used to handle threads in python"
   ]
  },
  {
   "cell_type": "markdown",
   "id": "e4cebe8c-5c68-4ea6-bb2c-b0e9eb0ccfa8",
   "metadata": {},
   "source": [
    "# Answer :-\n",
    "\n",
    "Multithreading is a technique in which multiple threads are created and run concurrently within a single process. Each thread represents a separate flow of execution that can run independently of other threads in the same process.\n",
    "\n",
    "Multithreading is used in Python to perform concurrent and parallel processing, which can lead to significant performance improvements in certain types of programs. It is commonly used in programs that perform I/O-bound tasks, such as network or file I/O, as well as programs that involve heavy computation or processing, such as scientific simulations or machine learning models.\n",
    "\n",
    "The threading module is used to handle threads in Python. It provides a high-level interface for creating and managing threads, including functions for starting and stopping threads, waiting for threads to complete, and for synchronizing the execution of multiple threads."
   ]
  },
  {
   "cell_type": "markdown",
   "id": "f7319d6a-ed09-4a41-a349-b30274fc9f45",
   "metadata": {},
   "source": [
    "## Question 02 - Why threading module used? write the use of the following functions\n",
    "1. activeCount()\n",
    "2. currentThread()\n",
    "3. enumerate()"
   ]
  },
  {
   "cell_type": "markdown",
   "id": "7c6a7544-4767-4fc1-9307-032787974317",
   "metadata": {},
   "source": [
    "# Answer\n",
    "\n",
    "The threading module is used in Python to create and manage threads in a program.\n",
    "\n",
    "Here are the uses of the following functions of the threading module:\n",
    "\n",
    "1. activeCount(): This function is used to get the number of active threads in the current thread's thread object. It returns the count of all the threads that are currently executing, including the main thread.\n",
    "\n",
    "2. currentThread(): This function returns a reference to the current thread object that is being executed.\n",
    "\n",
    "3. enumerate(): This function is used to get a list of all the active threads in the current thread's thread object. It returns a list of all thread objects, including the main thread. The list contains all the threads that are currently executing or waiting to be executed.\n",
    "\n",
    "These functions are used to manage threads and perform operations based on the thread's status and information."
   ]
  },
  {
   "cell_type": "markdown",
   "id": "04d54dda-3dce-4834-8cd3-0542a8edc05d",
   "metadata": {},
   "source": [
    "## Question 03 - Explain the following functions\n",
    "1. run()\n",
    "2. start()\n",
    "3. join()\n",
    "4. isAlive()"
   ]
  },
  {
   "cell_type": "markdown",
   "id": "cbac1a4f-16d9-487c-ae84-7d398ffb217e",
   "metadata": {},
   "source": [
    "# Answer :-\n",
    "\n",
    "These are the methods of the Thread class in Python's threading module, used for creating and managing threads.\n",
    "\n",
    "1. run(): This method defines the behavior of the thread when it starts. You should override this method in a subclass of Thread to implement your own thread behavior. It should not be called directly, but rather, is called by the start() method when the thread is started.\n",
    "\n",
    "2. start(): This method starts the thread by calling the run() method. When start() is called, a new thread is created, and the run() method is called in that new thread.\n",
    "\n",
    "3. join(): This method waits for the thread to complete its work and then terminates the thread. It blocks the calling thread until the target thread completes. If the optional timeout parameter is provided, it specifies the maximum number of seconds to wait for the thread to complete.\n",
    "\n",
    "4. isAlive(): This method returns a boolean value indicating whether the thread is currently running or not. It returns True if the thread is running, and False otherwise. This method is useful when you need to check the status of a thread, especially when waiting for it to complete its work."
   ]
  },
  {
   "cell_type": "markdown",
   "id": "847c82d7-5d10-408a-bb6b-14790177163b",
   "metadata": {},
   "source": [
    "## Question 04 - Write a python program to create two threads. Thread one must print the list of squares and thread two must print the list of cubes"
   ]
  },
  {
   "cell_type": "code",
   "execution_count": 7,
   "id": "5faa6279-84ac-4aff-97fd-9752a491fc73",
   "metadata": {},
   "outputs": [
    {
     "name": "stdout",
     "output_type": "stream",
     "text": [
      "Squares: [1, 4, 9, 16, 25]\n",
      "Cubes: [1, 8, 27, 64, 125]\n"
     ]
    }
   ],
   "source": [
    "# Answer:-\n",
    "\n",
    "import threading\n",
    "\n",
    "# Function to print the list of squares\n",
    "def print_squares():\n",
    "    squares = [x**2 for x in range(1, 6)]\n",
    "    print(\"Squares:\", squares)\n",
    "\n",
    "# Function to print the list of cubes\n",
    "def print_cubes():\n",
    "    cubes = [x**3 for x in range(1, 6)]\n",
    "    print(\"Cubes:\", cubes)\n",
    "\n",
    "# Create two threads for each function\n",
    "thread1 = threading.Thread(target=print_squares)\n",
    "thread2 = threading.Thread(target=print_cubes)\n",
    "\n",
    "# Start the threads\n",
    "thread1.start()\n",
    "thread2.start()\n",
    "\n",
    "# Wait for the threads to finish\n",
    "thread1.join()\n",
    "thread2.join()\n"
   ]
  },
  {
   "cell_type": "markdown",
   "id": "e034ebf5-4e2f-4a1b-9f33-978bc68ae085",
   "metadata": {},
   "source": [
    "## Question 05 - State advantages and disadvantages of multithreading"
   ]
  },
  {
   "cell_type": "markdown",
   "id": "95ca2410-bae5-4763-8116-5773d54a6fdc",
   "metadata": {},
   "source": [
    "# Answer :-\n",
    "\n",
    "# Advantages of Multithreading:\n",
    "\n",
    "1. Increased responsiveness: Multithreading improves the responsiveness of an application as it allows the main thread to respond to user events while other threads are executing in the background.\n",
    "2. Increased performance: Multithreading can increase the performance of an application by allowing multiple threads to execute concurrently on multi-core CPUs, thus reducing the overall execution time.\n",
    "3. Better resource utilization: By allowing multiple threads to execute on a single CPU, multithreading can better utilize system resources.\n",
    "4. Easier code maintenance: By separating different parts of the code into different threads, the code becomes easier to maintain and debug. \n",
    "\n",
    "# Disadvantages of Multithreading:\n",
    "\n",
    "1. Increased complexity: Multithreading can add complexity to the code, making it harder to design, implement, and maintain.\n",
    "2. Synchronization issues: Multithreading requires careful synchronization of shared resources to avoid data corruption and race conditions, which can be difficult to debug.\n",
    "3. Overhead: Creating and managing threads can introduce significant overhead, which can impact performance and resource utilization.\n",
    "4. Difficulty in debugging: Debugging multithreaded applications can be difficult due to the complex interactions between threads."
   ]
  },
  {
   "cell_type": "markdown",
   "id": "64945301-b44b-46ae-9e4c-7416c3c9c5c4",
   "metadata": {},
   "source": [
    "## Question 06 - Explain deadlocks and race conditions."
   ]
  },
  {
   "cell_type": "markdown",
   "id": "33eb24fd-9fbb-4fa0-99fb-7e691c0a8884",
   "metadata": {},
   "source": [
    "# Answer :-\n",
    "\n",
    "Deadlock and race conditions are two common issues that can occur when multiple threads are executing concurrently.\n",
    "\n",
    "# Deadlock:\n",
    "\n",
    "1. Deadlock is a situation where two or more threads are blocked indefinitely, waiting for each other to release resources. In other words, each thread is waiting for a resource that is held by another thread, and neither thread can continue until the other releases the resource it is holding. This can result in a situation where none of the threads can proceed, effectively halting the entire program.\n",
    "\n",
    "# Race Condition:\n",
    "\n",
    "1. Race condition occurs when two or more threads try to access and modify a shared resource at the same time, and the final output depends on the sequence in which the threads execute. In other words, the output of the program is dependent on the timing and order of thread execution, which can be unpredictable.\n",
    "\n",
    "For example, imagine that two threads are trying to increment the same counter variable. If the counter is initially set to zero, then the expected result should be two. However, if both threads access the counter at the same time, it's possible that both threads will read the value of zero, increment it, and then write back the value of one. This would result in a final value of one, instead of the expected value of two.\n",
    "\n",
    "Overall, both deadlocks and race conditions can be difficult to debug and fix, and can lead to unexpected behavior in multi-threaded programs. Therefore, it's important to design programs in a way that minimizes the likelihood of these issues, and to use appropriate synchronization mechanisms to manage shared resources."
   ]
  },
  {
   "cell_type": "code",
   "execution_count": null,
   "id": "a1a66c27-119a-4cd0-9af8-c9cb97c42930",
   "metadata": {},
   "outputs": [],
   "source": []
  }
 ],
 "metadata": {
  "kernelspec": {
   "display_name": "Python 3 (ipykernel)",
   "language": "python",
   "name": "python3"
  },
  "language_info": {
   "codemirror_mode": {
    "name": "ipython",
    "version": 3
   },
   "file_extension": ".py",
   "mimetype": "text/x-python",
   "name": "python",
   "nbconvert_exporter": "python",
   "pygments_lexer": "ipython3",
   "version": "3.10.8"
  }
 },
 "nbformat": 4,
 "nbformat_minor": 5
}
